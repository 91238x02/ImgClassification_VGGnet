{
 "cells": [
  {
   "cell_type": "markdown",
   "id": "42c7ae98",
   "metadata": {},
   "source": [
    "# Module import"
   ]
  },
  {
   "cell_type": "code",
   "execution_count": 1,
   "id": "86b8d855",
   "metadata": {
    "ExecuteTime": {
     "end_time": "2021-05-08T14:08:06.065907Z",
     "start_time": "2021-05-08T14:08:05.620518Z"
    }
   },
   "outputs": [],
   "source": [
    "## Import module \n",
    "import Func_1  #Custom Functions \n",
    "import os\n",
    "import re\n",
    "import cv2\n",
    "import csv\n",
    "import numpy as np\n",
    "import random\n",
    "import zipfile\n",
    "import matplotlib.pyplot as plt\n",
    "import matplotlib.image as mpimg"
   ]
  },
  {
   "cell_type": "code",
   "execution_count": null,
   "id": "7ca63a5b",
   "metadata": {
    "ExecuteTime": {
     "end_time": "2021-05-08T13:11:16.503235Z",
     "start_time": "2021-05-08T13:11:16.500233Z"
    }
   },
   "outputs": [],
   "source": [
    "%pwd"
   ]
  },
  {
   "cell_type": "markdown",
   "id": "49d8949f",
   "metadata": {},
   "source": [
    "# Resize & Align by 1..2..3.."
   ]
  },
  {
   "cell_type": "code",
   "execution_count": null,
   "id": "02945126",
   "metadata": {
    "ExecuteTime": {
     "end_time": "2021-05-08T12:29:42.634259Z",
     "start_time": "2021-05-08T12:29:42.555913Z"
    }
   },
   "outputs": [],
   "source": [
    "## Create directory\n",
    "!mkdir d:\\\\sample\n",
    "!mkdir d:\\\\sample\\\\raw\n",
    "!mkdir d:\\\\sample\\\\resize"
   ]
  },
  {
   "cell_type": "code",
   "execution_count": null,
   "id": "03e0904d",
   "metadata": {},
   "outputs": [],
   "source": [
    "\"\"\"Input Imgs into 'd:/sample/raw' \"\"\""
   ]
  },
  {
   "cell_type": "code",
   "execution_count": null,
   "id": "d1f3d3fc",
   "metadata": {
    "ExecuteTime": {
     "end_time": "2021-05-08T13:29:34.614167Z",
     "start_time": "2021-05-08T13:29:33.628236Z"
    },
    "scrolled": true
   },
   "outputs": [],
   "source": [
    "## Resize & create file by order:asc\n",
    "path_etc = 'd:\\\\sample\\\\raw'\n",
    "path_re = 'd:\\\\sample\\\\resize'\n",
    "\n",
    "Func_1.resize(path_etc, path_re, height=224, width=224)  #filename must me English  #default = 128*128"
   ]
  },
  {
   "cell_type": "markdown",
   "id": "ee1eee48",
   "metadata": {},
   "source": [
    "# Create Label (csv file)"
   ]
  },
  {
   "cell_type": "code",
   "execution_count": null,
   "id": "07a7995e",
   "metadata": {
    "ExecuteTime": {
     "end_time": "2021-05-08T12:30:29.459659Z",
     "start_time": "2021-05-08T12:30:29.451657Z"
    }
   },
   "outputs": [],
   "source": [
    "## Make csv file in path_re\n",
    "\"\"\"k1, k2, k3, k4, k5 is class.\n",
    "And each number is number of the class.\n",
    "So, you must match each class and the number.\"\"\"\n",
    "\n",
    "path_re = 'd:\\\\sample\\\\label.csv'\n",
    "Func_1.csv_maker_5(path_re, k1=100, k2=100, k3=100, k4=100, k5=100)"
   ]
  },
  {
   "cell_type": "markdown",
   "id": "4c392502",
   "metadata": {},
   "source": [
    " \n",
    " "
   ]
  },
  {
   "cell_type": "markdown",
   "id": "8c320cf6",
   "metadata": {},
   "source": [
    " \n",
    " "
   ]
  },
  {
   "cell_type": "markdown",
   "id": "fff77da2",
   "metadata": {},
   "source": [
    " \n",
    " "
   ]
  },
  {
   "cell_type": "markdown",
   "id": "4f705633",
   "metadata": {},
   "source": [
    " \n",
    " "
   ]
  },
  {
   "cell_type": "markdown",
   "id": "389b0033",
   "metadata": {
    "ExecuteTime": {
     "end_time": "2021-05-06T06:36:53.419480Z",
     "start_time": "2021-05-06T06:36:53.406552Z"
    }
   },
   "source": [
    "# Generating"
   ]
  },
  {
   "cell_type": "markdown",
   "id": "0df167eb",
   "metadata": {
    "ExecuteTime": {
     "end_time": "2021-05-08T09:01:29.732998Z",
     "start_time": "2021-05-08T09:01:29.722983Z"
    }
   },
   "source": [
    "## Create Generated imgs"
   ]
  },
  {
   "cell_type": "code",
   "execution_count": null,
   "id": "dd8a2128",
   "metadata": {
    "ExecuteTime": {
     "end_time": "2021-05-08T12:30:33.917271Z",
     "start_time": "2021-05-08T12:30:33.868276Z"
    }
   },
   "outputs": [],
   "source": [
    "## Create directory\n",
    "!mkdir d:\\\\sample\\\\datagen\n",
    "!mkdir d:\\\\sample\\\\fixed_resize"
   ]
  },
  {
   "cell_type": "code",
   "execution_count": null,
   "id": "609e04f0",
   "metadata": {
    "ExecuteTime": {
     "end_time": "2021-05-08T12:30:40.981799Z",
     "start_time": "2021-05-08T12:30:40.013571Z"
    }
   },
   "outputs": [],
   "source": [
    "## Resize & create file by order:asc\n",
    "path_etc = 'd:\\\\sample\\\\raw'\n",
    "path_re = 'd:\\\\sample\\\\fixed_resize'\n",
    "\n",
    "Func_1.fix_resize(path_etc, path_re, height=224, width=224)  #filename must me English  #default = 128*128"
   ]
  },
  {
   "cell_type": "code",
   "execution_count": null,
   "id": "668bc441",
   "metadata": {
    "ExecuteTime": {
     "end_time": "2021-05-08T12:30:53.282169Z",
     "start_time": "2021-05-08T12:30:51.547815Z"
    }
   },
   "outputs": [],
   "source": [
    "## Load IMGs\n",
    "path = 'd:\\\\sample\\\\fixed_resize'\n",
    "resize = Func_1.image_load(path)"
   ]
  },
  {
   "cell_type": "code",
   "execution_count": null,
   "id": "9ddf1059",
   "metadata": {
    "ExecuteTime": {
     "end_time": "2021-05-08T12:30:54.971361Z",
     "start_time": "2021-05-08T12:30:54.867346Z"
    }
   },
   "outputs": [],
   "source": [
    "## Check out first img(resized)\n",
    "import matplotlib.pyplot as plt\n",
    "\n",
    "img = resize[0, : ]\n",
    "plt.figure()\n",
    "plt.imshow(img)\n",
    "\n",
    "print(resize.shape)"
   ]
  },
  {
   "cell_type": "code",
   "execution_count": null,
   "id": "3d52304b",
   "metadata": {
    "ExecuteTime": {
     "end_time": "2021-05-08T12:30:56.218929Z",
     "start_time": "2021-05-08T12:30:56.203944Z"
    }
   },
   "outputs": [],
   "source": [
    "## Make X (feature)\n",
    "X = resize\n",
    "X.shape"
   ]
  },
  {
   "cell_type": "code",
   "execution_count": null,
   "id": "c7381030",
   "metadata": {
    "ExecuteTime": {
     "end_time": "2021-05-08T12:30:58.989369Z",
     "start_time": "2021-05-08T12:30:58.748289Z"
    }
   },
   "outputs": [],
   "source": [
    "## Sampling\n",
    "X = X.astype('float')\n",
    "X = X/255\n",
    "X.shape "
   ]
  },
  {
   "cell_type": "code",
   "execution_count": null,
   "id": "53390215",
   "metadata": {
    "ExecuteTime": {
     "end_time": "2021-05-08T12:31:35.998034Z",
     "start_time": "2021-05-08T12:31:35.988040Z"
    }
   },
   "outputs": [],
   "source": [
    "## Func : datagen\n",
    "def datagen(p1, p2, data, path):\n",
    "    #p1 : picture range generating\n",
    "    #p2 : generating figures per each picture\n",
    "    X = data\n",
    "    for k in range(p1):\n",
    "        X2 = X[k:k+1, : ]\n",
    "        X2.reshape(1, -1)\n",
    "\n",
    "        i = 1\n",
    "        for batch in X_datagen.flow(X2, batch_size=1,\n",
    "                                    save_to_dir=path, \n",
    "                                    save_prefix='Picture'+str(k), \n",
    "                                    save_format='jpg'):\n",
    "            i += 1\n",
    "            if i > p2:\n",
    "                break  "
   ]
  },
  {
   "cell_type": "code",
   "execution_count": null,
   "id": "78f7e72b",
   "metadata": {
    "ExecuteTime": {
     "end_time": "2021-05-08T12:31:36.857163Z",
     "start_time": "2021-05-08T12:31:36.851162Z"
    }
   },
   "outputs": [],
   "source": [
    "## Setting options\n",
    "# Index : url below                \n",
    "# https://m.blog.naver.com/PostView.nhn?blogId=isu112600&logNo=221582003889&proxyReferer=https:%2F%2Fwww.google.com%2F\n",
    "\n",
    "from tensorflow.keras.preprocessing.image import ImageDataGenerator\n",
    "\n",
    "X_datagen = ImageDataGenerator(horizontal_flip = True,\n",
    "                               vertical_flip = False,\n",
    "                               #brightness_range = [0.2, 1.0],\n",
    "                               #width_shift_range = 0.2,\n",
    "                               #height_shift_range = 0.2,\n",
    "                               zoom_range = 0.1,\n",
    "                               rotation_range = 50,\n",
    "                               fill_mode = 'nearest'\n",
    "                              )"
   ]
  },
  {
   "cell_type": "code",
   "execution_count": null,
   "id": "2375fc0f",
   "metadata": {
    "ExecuteTime": {
     "end_time": "2021-05-08T12:31:40.816352Z",
     "start_time": "2021-05-08T12:31:40.380185Z"
    }
   },
   "outputs": [],
   "source": [
    "## Execute function : datagen\n",
    "path = 'd:\\\\sample\\\\datagen'\n",
    "datagen(5,10,X,path)  #Create datagen imgs (50 figs:5*10)"
   ]
  },
  {
   "cell_type": "markdown",
   "id": "188a6441",
   "metadata": {
    "ExecuteTime": {
     "end_time": "2021-05-08T08:42:59.648724Z",
     "start_time": "2021-05-08T08:42:59.634721Z"
    }
   },
   "source": [
    "## Visualize generated img on jupyter"
   ]
  },
  {
   "cell_type": "code",
   "execution_count": null,
   "id": "fa056021",
   "metadata": {},
   "outputs": [],
   "source": [
    "## Move Current directory\n",
    "%cd d:/sample/datagen"
   ]
  },
  {
   "cell_type": "code",
   "execution_count": null,
   "id": "52e96577",
   "metadata": {
    "ExecuteTime": {
     "end_time": "2021-05-08T12:31:46.394689Z",
     "start_time": "2021-05-08T12:31:46.363681Z"
    }
   },
   "outputs": [],
   "source": [
    "## file name change \n",
    "\"\"\"Warning\n",
    "If above code(move dir) not work, Do not execute code below.\n",
    "Unless your current folder's name will change like 1,2,3,4...etc.\"\"\"\n",
    "import os\n",
    "count = 1\n",
    "for i in os.listdir():\n",
    "    os.rename(i, str(count) + '.' + i.split('.')[-1] )\n",
    "    count += 1"
   ]
  },
  {
   "cell_type": "code",
   "execution_count": null,
   "id": "78617c69",
   "metadata": {
    "ExecuteTime": {
     "end_time": "2021-05-08T12:31:54.241319Z",
     "start_time": "2021-05-08T12:31:54.067280Z"
    }
   },
   "outputs": [],
   "source": [
    "## Load IMGs\n",
    "path_re = 'd:\\\\sample\\\\datagen'\n",
    "sample = Func_1.image_load(path_re)"
   ]
  },
  {
   "cell_type": "code",
   "execution_count": null,
   "id": "921e7ac2",
   "metadata": {
    "ExecuteTime": {
     "end_time": "2021-05-08T12:31:56.443938Z",
     "start_time": "2021-05-08T12:31:56.403925Z"
    }
   },
   "outputs": [],
   "source": [
    "## sampling\n",
    "sample = sample.astype('float')\n",
    "sample = sample/255\n",
    "sample.shape"
   ]
  },
  {
   "cell_type": "code",
   "execution_count": null,
   "id": "1cad317a",
   "metadata": {
    "ExecuteTime": {
     "end_time": "2021-05-08T12:38:01.389340Z",
     "start_time": "2021-05-08T12:38:01.108352Z"
    }
   },
   "outputs": [],
   "source": [
    "## Visualizing\n",
    "fig = plt.figure(figsize=(20,20))\n",
    "for i in range(20):\n",
    "    plt.subplot(5,4,1+i)\n",
    "    plt.imshow(sample[i,:])\n",
    "    plt.show"
   ]
  },
  {
   "cell_type": "markdown",
   "id": "087ea01a",
   "metadata": {},
   "source": [
    "# Setting Test dataset"
   ]
  },
  {
   "cell_type": "code",
   "execution_count": null,
   "id": "4f5d6aa5",
   "metadata": {
    "ExecuteTime": {
     "end_time": "2021-05-08T13:27:05.036200Z",
     "start_time": "2021-05-08T13:27:04.986213Z"
    }
   },
   "outputs": [],
   "source": [
    "!mkdir d:\\\\sample\\\\Test_Dataset\n",
    "!mkdir d:\\\\sample\\\\test_raw"
   ]
  },
  {
   "cell_type": "code",
   "execution_count": null,
   "id": "278ee70a",
   "metadata": {
    "ExecuteTime": {
     "end_time": "2021-05-08T13:40:33.454945Z",
     "start_time": "2021-05-08T13:40:33.037493Z"
    }
   },
   "outputs": [],
   "source": [
    "## Resize & create file by order:asc\n",
    "path_etc = 'd:\\\\sample\\\\test_raw'\n",
    "path_re = 'd:\\\\sample\\\\Test_Dataset'\n",
    "\n",
    "Func_1.resize(path_etc, path_re, height=224, width=224)  #filename must me English  #default = 128*128"
   ]
  },
  {
   "cell_type": "code",
   "execution_count": null,
   "id": "b297c5d8",
   "metadata": {
    "ExecuteTime": {
     "end_time": "2021-05-08T13:42:35.280673Z",
     "start_time": "2021-05-08T13:42:35.269679Z"
    }
   },
   "outputs": [],
   "source": [
    "## Make csv file for test\n",
    "path_re = 'd:\\\\sample\\\\label_2.csv'\n",
    "Func_1.csv_maker_5(path_re, k1=10, k2=10, k3=10, k4=10, k5=10)"
   ]
  },
  {
   "cell_type": "markdown",
   "id": "caf4396a",
   "metadata": {},
   "source": [
    "# Create dir \n",
    "(for Training)"
   ]
  },
  {
   "cell_type": "code",
   "execution_count": null,
   "id": "6a8a2551",
   "metadata": {
    "ExecuteTime": {
     "end_time": "2021-05-08T13:08:02.454279Z",
     "start_time": "2021-05-08T13:08:02.403267Z"
    }
   },
   "outputs": [],
   "source": [
    "!mkdir d:\\\\sample\\\\Train_Dataset"
   ]
  },
  {
   "cell_type": "code",
   "execution_count": null,
   "id": "cf7fcca0",
   "metadata": {},
   "outputs": [],
   "source": [
    "## Move Current directory\n",
    "%cd d://sample/Train_Dataset"
   ]
  },
  {
   "cell_type": "code",
   "execution_count": null,
   "id": "880aabc7",
   "metadata": {
    "ExecuteTime": {
     "end_time": "2021-05-08T13:09:35.085104Z",
     "start_time": "2021-05-08T13:09:34.956074Z"
    }
   },
   "outputs": [],
   "source": [
    "## Rename files like 1.jpg, 2.jpg, 3.jpg...\n",
    "\"\"\"Warning\n",
    "If above code(move dir) not work, Do not execute code below.\n",
    "Unless your current folder's name will change like 1,2,3,4...etc.\"\"\"\n",
    "import os\n",
    "count = 1\n",
    "for i in os.listdir():\n",
    "    os.rename(i, str(count) + '.' + i.split('.')[-1] )\n",
    "    count += 1"
   ]
  },
  {
   "cell_type": "code",
   "execution_count": null,
   "id": "39cb3a2b",
   "metadata": {},
   "outputs": [],
   "source": [
    "\"\"\"Test_Dataset must be contained independant pictures\"\"\""
   ]
  },
  {
   "cell_type": "markdown",
   "id": "766d4c64",
   "metadata": {},
   "source": [
    "# create dir\n",
    "(for google drive upload)"
   ]
  },
  {
   "cell_type": "code",
   "execution_count": null,
   "id": "309c3388",
   "metadata": {
    "ExecuteTime": {
     "end_time": "2021-05-08T13:46:39.158479Z",
     "start_time": "2021-05-08T13:46:39.124471Z"
    }
   },
   "outputs": [],
   "source": [
    "!mkdir d:\\\\sample\\\\DATASETS"
   ]
  },
  {
   "cell_type": "code",
   "execution_count": null,
   "id": "3c78ba12",
   "metadata": {
    "ExecuteTime": {
     "end_time": "2021-05-08T13:54:04.319455Z",
     "start_time": "2021-05-08T13:54:04.228434Z"
    }
   },
   "outputs": [],
   "source": [
    "## If you have dir error, restart kernel and retry\n",
    "\n",
    "# move datasets you need\n",
    "!move d:\\\\sample\\\\label.csv d:\\\\sample\\\\DATASETS\n",
    "!move d:\\\\sample\\\\label_2.csv d:\\\\sample\\\\DATASETS\n",
    "!move d:\\\\sample\\\\Test_Dataset d:\\\\sample\\\\DATASETS\n",
    "!move d:\\\\sample\\\\Train_Dataset d:\\\\sample\\\\DATASETS"
   ]
  },
  {
   "cell_type": "code",
   "execution_count": 4,
   "id": "f690c913",
   "metadata": {
    "ExecuteTime": {
     "end_time": "2021-05-10T05:05:55.315560Z",
     "start_time": "2021-05-10T05:05:55.240543Z"
    }
   },
   "outputs": [
    {
     "name": "stdout",
     "output_type": "stream",
     "text": [
      "        1개 파일이 복사되었습니다.\n"
     ]
    }
   ],
   "source": [
    "# copy .py & .ipynb file for traing in colab env.\n",
    "!mkdir d:\\\\sample\\\\VGGnet\n",
    "!copy c:\\\\practice\\\\ImgClassification_VGGnet\\\\Func_1.py d:\\\\sample\\\\VGGnet\n",
    "# .ipynb file (Essential)"
   ]
  },
  {
   "cell_type": "markdown",
   "id": "5f9d8236",
   "metadata": {
    "ExecuteTime": {
     "end_time": "2021-05-08T14:05:48.432928Z",
     "start_time": "2021-05-08T14:05:48.420910Z"
    }
   },
   "source": [
    "## Create zipfile "
   ]
  },
  {
   "cell_type": "code",
   "execution_count": 14,
   "id": "9465702b",
   "metadata": {
    "ExecuteTime": {
     "end_time": "2021-05-08T14:17:36.066792Z",
     "start_time": "2021-05-08T14:17:35.724906Z"
    }
   },
   "outputs": [],
   "source": [
    "## Create Zipfile in jupyter\n",
    "temp_zip = zipfile.ZipFile('d:\\\\sample\\\\DATASETS.zip', 'w')\n",
    " \n",
    "for folder, subfolders, files in os.walk('d:\\\\sample\\\\DATASETS'): \n",
    "    for file in files:\n",
    "        temp_zip.write(os.path.join(folder, file), \n",
    "                       os.path.relpath(os.path.join(folder,file), 'd:\\\\sample\\\\DATASETS'), \n",
    "                       compress_type = zipfile.ZIP_DEFLATED)        \n",
    "temp_zip.close()"
   ]
  }
 ],
 "metadata": {
  "kernelspec": {
   "display_name": "sample",
   "language": "python",
   "name": "sample"
  },
  "language_info": {
   "codemirror_mode": {
    "name": "ipython",
    "version": 3
   },
   "file_extension": ".py",
   "mimetype": "text/x-python",
   "name": "python",
   "nbconvert_exporter": "python",
   "pygments_lexer": "ipython3",
   "version": "3.7.9"
  },
  "toc": {
   "base_numbering": 1,
   "nav_menu": {},
   "number_sections": true,
   "sideBar": true,
   "skip_h1_title": false,
   "title_cell": "Table of Contents",
   "title_sidebar": "Contents",
   "toc_cell": false,
   "toc_position": {},
   "toc_section_display": true,
   "toc_window_display": false
  }
 },
 "nbformat": 4,
 "nbformat_minor": 5
}
