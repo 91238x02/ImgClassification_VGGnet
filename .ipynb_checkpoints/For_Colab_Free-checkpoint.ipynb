{
 "cells": [
  {
   "cell_type": "code",
   "execution_count": null,
   "metadata": {
    "id": "DwyUU_FfnVUU"
   },
   "outputs": [],
   "source": [
    "\"\"\"This script is for users having colab free ver.\n",
    "Load img and Check out the accracy of model with training, validation, testsets\"\"\""
   ]
  },
  {
   "cell_type": "markdown",
   "metadata": {
    "id": "sW5S9EUD-3Bg"
   },
   "source": [
    "# 1) **Preparing Datas**\n",
    "\n",
    "\n"
   ]
  },
  {
   "cell_type": "markdown",
   "metadata": {
    "id": "Xk4O85ur8dTn"
   },
   "source": [
    "## Check out : Gpu/Ram"
   ]
  },
  {
   "cell_type": "code",
   "execution_count": null,
   "metadata": {
    "id": "9cImWfkHbtUe"
   },
   "outputs": [],
   "source": [
    "## 할당된 GPU 확인\n",
    "gpu_info = !nvidia-smi\n",
    "gpu_info = '\\n'.join(gpu_info)\n",
    "if gpu_info.find('failed') >= 0:\n",
    "  print('Select the Runtime > \"Change runtime type\" menu to enable a GPU accelerator, ')\n",
    "  print('and then re-execute this cell.')\n",
    "else:\n",
    "  print(gpu_info)"
   ]
  },
  {
   "cell_type": "code",
   "execution_count": null,
   "metadata": {
    "id": "bqsrNGE_cTTP"
   },
   "outputs": [],
   "source": [
    "## 할당된 Ram 확인\n",
    "from psutil import virtual_memory\n",
    "ram_gb = virtual_memory().total / 1e9\n",
    "print('Your runtime has {:.1f} gigabytes of available RAM\\n'.format(ram_gb))\n",
    "\n",
    "if ram_gb < 20:\n",
    "  print('To enable a high-RAM runtime, select the Runtime > \"Change runtime type\"')\n",
    "  print('menu, and then select High-RAM in the Runtime shape dropdown. Then, ')\n",
    "  print('re-execute this cell.')\n",
    "else:\n",
    "  print('You are using a high-RAM runtime!')"
   ]
  },
  {
   "cell_type": "markdown",
   "metadata": {
    "id": "2nQ-lKls8lin"
   },
   "source": [
    "## Mount Google Drive"
   ]
  },
  {
   "cell_type": "code",
   "execution_count": null,
   "metadata": {
    "id": "hmtykSzTeQ01"
   },
   "outputs": [],
   "source": [
    "from google.colab import drive\n",
    "drive.mount('/content/drive')"
   ]
  },
  {
   "cell_type": "markdown",
   "metadata": {
    "id": "-0PP4o_s88De"
   },
   "source": [
    "## Unzip picture_data\n",
    "(for train&test)"
   ]
  },
  {
   "cell_type": "code",
   "execution_count": null,
   "metadata": {
    "id": "oTO7mCXwfK0l"
   },
   "outputs": [],
   "source": [
    "## Check out details of current dir\n",
    "!ls '/content/drive/MyDrive/VGGnet'"
   ]
  },
  {
   "cell_type": "code",
   "execution_count": null,
   "metadata": {
    "id": "FchgS2KmgNaq"
   },
   "outputs": [],
   "source": [
    "## Copy 'VGGnet' directory to content directory in Colab \n",
    "!cp -r '/content/drive/MyDrive/VGGnet/' '/content/'"
   ]
  },
  {
   "cell_type": "code",
   "execution_count": null,
   "metadata": {
    "id": "juRVtkHSzSET"
   },
   "outputs": [],
   "source": [
    "## Current directory \n",
    "%pwd"
   ]
  },
  {
   "cell_type": "code",
   "execution_count": null,
   "metadata": {
    "id": "lg7_-GQ7gqU5"
   },
   "outputs": [],
   "source": [
    "## Check details\n",
    "!ls ./VGGnet"
   ]
  },
  {
   "cell_type": "code",
   "execution_count": null,
   "metadata": {
    "id": "YBQSWe2ZfrBY"
   },
   "outputs": [],
   "source": [
    "## Unzip 'DATASETS.zip' file\n",
    "!unzip '/content/VGGnet/DATASETS.zip' -d '/content/VGGnet'"
   ]
  },
  {
   "cell_type": "code",
   "execution_count": null,
   "metadata": {
    "id": "kTCR3yJcFXQO"
   },
   "outputs": [],
   "source": [
    "## Delete zipfile \n",
    "!rm '/content/VGGnet/DATASETS.zip'"
   ]
  },
  {
   "cell_type": "code",
   "execution_count": null,
   "metadata": {
    "id": "q3om7GH2WY9R"
   },
   "outputs": [],
   "source": [
    "## Check Train_Dataset\n",
    "%cd '/content/VGGnet/Train_Dataset'\n",
    "!ls '/content/VGGnet/Train_Dataset'\n",
    "print('')\n",
    "print('cnt of pictures')\n",
    "!ls -l | grep ^-.*\\.jpg$ | wc -l"
   ]
  },
  {
   "cell_type": "code",
   "execution_count": null,
   "metadata": {
    "id": "1yBHZDOgWmF4"
   },
   "outputs": [],
   "source": [
    "## Check Test_Dataset\n",
    "%cd '/content/VGGnet/Test_Dataset'\n",
    "!ls '/content/VGGnet/Test_Dataset'\n",
    "print('')\n",
    "print('cnt of pictures')\n",
    "!ls -l | grep ^-.*\\.jpg$ | wc -l"
   ]
  },
  {
   "cell_type": "code",
   "execution_count": null,
   "metadata": {
    "id": "XViCM20tCTvD"
   },
   "outputs": [],
   "source": [
    "## Check out details of 'VGGnet' dir\n",
    "%cd /content/VGGnet/\n",
    "!ls "
   ]
  },
  {
   "cell_type": "markdown",
   "metadata": {
    "id": "lycpwycfkzFE"
   },
   "source": [
    "# **2) Load datasets**"
   ]
  },
  {
   "cell_type": "markdown",
   "metadata": {
    "id": "QTDbryytVGm3"
   },
   "source": [
    "## Import Modules"
   ]
  },
  {
   "cell_type": "code",
   "execution_count": null,
   "metadata": {
    "id": "eDoK29j4U_us"
   },
   "outputs": [],
   "source": [
    "## Modules Required\n",
    "\n",
    "import Func_1  #Custom Functions \n",
    "import os \n",
    "import re\n",
    "import cv2\n",
    "import csv\n",
    "import numpy as np\n",
    "import random\n",
    "import matplotlib.pyplot as plt\n",
    "import matplotlib.image as mpimg\n",
    "from google.colab.patches import cv2_imshow"
   ]
  },
  {
   "cell_type": "markdown",
   "metadata": {
    "id": "JCLnhOZMVRnJ"
   },
   "source": [
    "## Load Train_Dataset\n",
    "(to Colab environment from google-drive)"
   ]
  },
  {
   "cell_type": "code",
   "execution_count": null,
   "metadata": {
    "id": "FmBeDmopkzIW"
   },
   "outputs": [],
   "source": [
    "## Check out current working directory\n",
    "%pwd"
   ]
  },
  {
   "cell_type": "code",
   "execution_count": null,
   "metadata": {
    "id": "7MN8JZdl3XJR"
   },
   "outputs": [],
   "source": [
    "## Check out cv2.__version\n",
    "cv2.__version__  #4.1.2"
   ]
  },
  {
   "cell_type": "code",
   "execution_count": null,
   "metadata": {
    "id": "YZ2Wcryz4Hf9"
   },
   "outputs": [],
   "source": [
    "## Check out state of imgs\n",
    "\n",
    "#Train_Dataset\n",
    "img = cv2.imread('/content/VGGnet/Train_Dataset/1.jpg')\n",
    "cv2_imshow(img)\n",
    "\n",
    "#Test_Dataset\n",
    "img2 = cv2.imread('/content/VGGnet/Test_Dataset/1.jpg')\n",
    "cv2_imshow(img2)"
   ]
  },
  {
   "cell_type": "code",
   "execution_count": null,
   "metadata": {
    "id": "YAzgNzdezBPc"
   },
   "outputs": [],
   "source": [
    "## Load X : Features\n",
    " \n",
    "path_train = \"/content/VGGnet/Train_Dataset\"\n",
    "resize = Func_1.img_load_c(path_train)"
   ]
  },
  {
   "cell_type": "code",
   "execution_count": null,
   "metadata": {
    "id": "9hL-uWHckzVk"
   },
   "outputs": [],
   "source": [
    "## Check out first img(resized) & shape\n",
    "img = resize[0, : ]\n",
    "plt.figure()\n",
    "plt.imshow(img)\n",
    "print(resize.shape)  "
   ]
  },
  {
   "cell_type": "markdown",
   "metadata": {
    "id": "8SUBQZrArWil"
   },
   "source": [
    "## Scailing : Trainset(X)"
   ]
  },
  {
   "cell_type": "code",
   "execution_count": null,
   "metadata": {
    "id": "DWflogCtkzZA"
   },
   "outputs": [],
   "source": [
    "## Make X (feature)\n",
    "\n",
    "X = resize\n",
    "X.shape  "
   ]
  },
  {
   "cell_type": "code",
   "execution_count": null,
   "metadata": {
    "id": "EsPuN8wfrU1e"
   },
   "outputs": [],
   "source": [
    "## Sampling\n",
    "X = X.astype('float')\n",
    "X = X/255\n",
    "X.shape  "
   ]
  },
  {
   "cell_type": "markdown",
   "metadata": {
    "id": "V9k1FaXlrWFy"
   },
   "source": [
    "## Load Label"
   ]
  },
  {
   "cell_type": "code",
   "execution_count": null,
   "metadata": {
    "id": "hTz-dSmrkzcH"
   },
   "outputs": [],
   "source": [
    "path_label = \"/content/VGGnet/label.csv\"\n",
    "y = Func_1.label_load(path_label,label_cnt=5)  #label_cnt = len(신발종류)\n",
    "y.shape"
   ]
  },
  {
   "cell_type": "markdown",
   "metadata": {
    "id": "ZT-v1JZ2kzfS"
   },
   "source": [
    "## Check out"
   ]
  },
  {
   "cell_type": "code",
   "execution_count": null,
   "metadata": {
    "id": "npQXyBHXkziY"
   },
   "outputs": [],
   "source": [
    "## Confirm X, y\n",
    "print(X.shape)  \n",
    "print(y.shape, end='\\n\\n\\n')  \n",
    "\n",
    "# print(\"#####Check out : X#####\")\n",
    "# print(X, end='\\n\\n\\n')\n",
    "# print(\"#####Check out : y#####\")\n",
    "# print(y)"
   ]
  },
  {
   "cell_type": "code",
   "execution_count": null,
   "metadata": {
    "id": "nbq0dvLDfTBU"
   },
   "outputs": [],
   "source": [
    "## Check out Train_Dataset imgs\n",
    "index = [1,2,1801,1802,3601,3602,5401,5402,7201,7202]\n",
    "\n",
    "plt.figure(figsize=(10, 10))\n",
    "for j, i in enumerate(index):\n",
    "    ax = plt.subplot(3, 4, j+1)\n",
    "    img = X[i, ]\n",
    "    plt.imshow(img)\n",
    "    plt.title(np.argmax(y[i]))\n",
    "    plt.axis(\"off\")\n",
    "\n",
    "## Index\n",
    "# 0 - addidas \n",
    "# 1 - converse\n",
    "# 2 - new balance\n",
    "# 3 - nike\n",
    "# 4 - vans"
   ]
  },
  {
   "cell_type": "markdown",
   "metadata": {
    "id": "9IopM0QjIj_i"
   },
   "source": [
    "# **3) Training Models : VGGnet**\n",
    "(Training is excluded in this part)"
   ]
  },
  {
   "cell_type": "markdown",
   "metadata": {
    "id": "pJxs0kf6uahp"
   },
   "source": [
    "## Import Modules"
   ]
  },
  {
   "cell_type": "code",
   "execution_count": null,
   "metadata": {
    "id": "SsEqXevVkzli"
   },
   "outputs": [],
   "source": [
    "## module import\n",
    "import tensorflow as tf # tensorflow 2.0\n",
    "from tensorflow.keras.models import Sequential, save_model\n",
    "from tensorflow.keras.utils import to_categorical\n",
    "from tensorflow.keras.layers import Conv2D, Flatten, MaxPooling2D, Activation\n",
    "from tensorflow.keras.layers import Dropout, BatchNormalization, Dense\n",
    "from tensorflow.keras.optimizers import Adam\n",
    "\n",
    "\n",
    "from sklearn.model_selection import train_test_split\n",
    "import matplotlib.pyplot as plt\n",
    "from PIL import Image\n",
    "import numpy as np\n",
    "\n",
    "\n",
    "## Transfer learning (전이학습)\n",
    "from tensorflow.keras.applications.vgg16 import VGG16                        \n",
    "#from tensorflow.keras.applications.vgg19 import VGG19\n",
    "# from tensorflow.keras.applications.inception_v3 import InceptionV3\n",
    "# from tensorflow.keras.applications.resnet import ResNet50"
   ]
  },
  {
   "cell_type": "code",
   "execution_count": null,
   "metadata": {
    "id": "cpFqOqL6uT5P"
   },
   "outputs": [],
   "source": [
    "## Check out Tensor version\n",
    "import tensorflow\n",
    "print(tensorflow.__version__)  #2.4.1"
   ]
  },
  {
   "cell_type": "markdown",
   "metadata": {
    "id": "axnFkC46udb1"
   },
   "source": [
    "## Set Validation"
   ]
  },
  {
   "cell_type": "code",
   "execution_count": null,
   "metadata": {
    "id": "DlvuMis5kzom"
   },
   "outputs": [],
   "source": [
    "# 훈련/테스트 데이터를 0.7/0.3의 비율로 분리합니다.\n",
    "x_train, x_val, y_train, y_val = train_test_split(X, y, \n",
    "                                                test_size = 0.3, \n",
    "                                                random_state = 777)\n",
    "\n",
    "# Checkout\n",
    "print(\"x_train.shape :\", x_train.shape)\n",
    "print(\"y_train.shape :\", y_train.shape)\n",
    "print(\"x_val.shape :\", x_val.shape)  \n",
    "print(\"y_val.shape :\", y_val.shape)  "
   ]
  },
  {
   "cell_type": "markdown",
   "metadata": {
    "id": "umDacCQfwRae"
   },
   "source": [
    "## *Get accuracy & loss >>> Colab free ver.*\n",
    "(Train_Dataset)"
   ]
  },
  {
   "cell_type": "code",
   "execution_count": null,
   "metadata": {
    "id": "wVKv5Gxrnqcj"
   },
   "outputs": [],
   "source": [
    "## Change current dir.\n",
    "%cd \"/content/VGGnet\" "
   ]
  },
  {
   "cell_type": "code",
   "execution_count": null,
   "metadata": {
    "id": "Aez_2qvsnspR"
   },
   "outputs": [],
   "source": [
    "## Check out directory\n",
    "!ls # confirm the file 'VGG16_Model_v1.h5'"
   ]
  },
  {
   "cell_type": "code",
   "execution_count": null,
   "metadata": {
    "id": "Xnc99rgPncIZ"
   },
   "outputs": [],
   "source": [
    "## Load trained model\n",
    "\n",
    "from keras.models import load_model\n",
    "model = load_model('VGG16_Model_v1.h5')"
   ]
  },
  {
   "cell_type": "code",
   "execution_count": null,
   "metadata": {
    "id": "lzNL-9wfCseo"
   },
   "outputs": [],
   "source": [
    "# Check results of train set\n",
    "scores = model.evaluate(x_train, y_train, batch_size=16, verbose=1)\n",
    "print(\"Vgg16 train Error : %.2f%%\" % (100-scores[1]*100))\n",
    "print(\"Vgg16 train Loss : %.2f\" % (scores[0]))"
   ]
  },
  {
   "cell_type": "code",
   "execution_count": null,
   "metadata": {
    "id": "PlA0a10ACs43"
   },
   "outputs": [],
   "source": [
    "# Check results of validation set\n",
    "scores2 = model.evaluate(x_val, y_val, batch_size=16, verbose=1)\n",
    "print(\"Vgg16 val Error : %.2f%%\" % (100-scores2[1]*100))\n",
    "print(\"Vgg16 val Loss : %.2f\" % (scores2[0]))"
   ]
  },
  {
   "cell_type": "code",
   "execution_count": null,
   "metadata": {
    "id": "rCjFPne4k0OJ"
   },
   "outputs": [],
   "source": [
    "#https://www.tensorflow.org/api_docs/python/tf/keras/Model"
   ]
  },
  {
   "cell_type": "markdown",
   "metadata": {
    "id": "0KYTSblmJlhp"
   },
   "source": [
    "# **4) Test with Test_Dataset**"
   ]
  },
  {
   "cell_type": "markdown",
   "metadata": {
    "id": "LJlDesNOJle-"
   },
   "source": [
    "## Load Test_Dataset "
   ]
  },
  {
   "cell_type": "code",
   "execution_count": null,
   "metadata": {
    "id": "b0TtMW3FJlcO"
   },
   "outputs": [],
   "source": [
    "## Check out current working directory\n",
    "%pwd"
   ]
  },
  {
   "cell_type": "code",
   "execution_count": null,
   "metadata": {
    "id": "-HDW8s4zJlZc"
   },
   "outputs": [],
   "source": [
    "## Load X : Features\n",
    "path_test = \"/content/VGGnet/Test_Dataset\"\n",
    "resize_t = Func_1.img_load_c(path_test)"
   ]
  },
  {
   "cell_type": "code",
   "execution_count": null,
   "metadata": {
    "id": "IexOBV0bJlWe"
   },
   "outputs": [],
   "source": [
    "## Check out first img(resized) & shape\n",
    "img = resize_t[0, : ]\n",
    "plt.figure()\n",
    "plt.imshow(img)\n",
    "print(resize_t.shape)  "
   ]
  },
  {
   "cell_type": "markdown",
   "metadata": {
    "id": "OH5PDU3wJlTs"
   },
   "source": [
    "## Scailing : Testset(X_t)"
   ]
  },
  {
   "cell_type": "code",
   "execution_count": null,
   "metadata": {
    "id": "VP7CNHNjLDgR"
   },
   "outputs": [],
   "source": [
    "## Make X_t (feature)\n",
    "\n",
    "X_t = resize_t\n",
    "X_t.shape  "
   ]
  },
  {
   "cell_type": "code",
   "execution_count": null,
   "metadata": {
    "id": "IaFqxqiOLDgX"
   },
   "outputs": [],
   "source": [
    "X_t = X_t.astype('float')\n",
    "X_t = X_t/255\n",
    "X_t.shape  "
   ]
  },
  {
   "cell_type": "markdown",
   "metadata": {
    "id": "lAiPd9BKLDgX"
   },
   "source": [
    "## Load Label"
   ]
  },
  {
   "cell_type": "code",
   "execution_count": null,
   "metadata": {
    "id": "W7SzaG4XLDgY"
   },
   "outputs": [],
   "source": [
    "path_label2 = \"/content//VGGnet/label_2.csv\"\n",
    "y_t = Func_1.label_load(path_label2,label_cnt=5)  #label_cnt = len(신발종류)\n",
    "y_t.shape"
   ]
  },
  {
   "cell_type": "markdown",
   "metadata": {
    "id": "fcb31PL0LDgY"
   },
   "source": [
    "## Check out"
   ]
  },
  {
   "cell_type": "code",
   "execution_count": null,
   "metadata": {
    "id": "R9PqIwAOLDgY"
   },
   "outputs": [],
   "source": [
    "## Confirm X, y\n",
    "print(X_t.shape)  \n",
    "print(y_t.shape, end='\\n\\n\\n')  \n",
    "\n",
    "# print(\"#####Check out : X#####\")\n",
    "# print(X, end='\\n\\n\\n')\n",
    "# print(\"#####Check out : y#####\")\n",
    "# print(y)"
   ]
  },
  {
   "cell_type": "code",
   "execution_count": null,
   "metadata": {
    "id": "axnFVCw3kUv-"
   },
   "outputs": [],
   "source": [
    "## Check out Test_Dataset imgs\n",
    "index = [1,2,11,12,21,22,31,32,41,42]\n",
    "\n",
    "plt.figure(figsize=(10, 10))\n",
    "for j, i in enumerate(index):\n",
    "    ax = plt.subplot(3, 4, j+1)\n",
    "    img = X_t[i, ]\n",
    "    plt.imshow(img)\n",
    "    plt.title(np.argmax(y_t[i]))\n",
    "    plt.axis(\"off\")\n",
    "\n",
    "## Index\n",
    "# 0 - addidas \n",
    "# 1 - converse\n",
    "# 2 - new balance\n",
    "# 3 - nike\n",
    "# 4 - vans"
   ]
  },
  {
   "cell_type": "markdown",
   "metadata": {
    "id": "dsyBGLO4JlNG"
   },
   "source": [
    "## Get accuracy & loss >>> Colab pro ver.\n",
    "(Test_Dataset)"
   ]
  },
  {
   "cell_type": "code",
   "execution_count": null,
   "metadata": {
    "id": "Tl3YxhkJJlF-"
   },
   "outputs": [],
   "source": [
    "## Check out accuracy (with test data)  #모델을 실측데이터로 정확도 측정한 결과 확인\n",
    "scores3 = model.evaluate(X_t, y_t, batch_size=16, verbose=1)\n",
    "print(\"Vgg16 ind_dataset Error : %.2f%%\" % (100-scores3[1]*100))\n",
    "print(\"Vgg16 ind_dataset loss : %.2f\" % (scores3[0]))"
   ]
  },
  {
   "cell_type": "markdown",
   "metadata": {
    "id": "zKtVDBk7wZUV"
   },
   "source": [
    "# **5) Extract trained model**\n",
    "(to google drive)"
   ]
  },
  {
   "cell_type": "code",
   "execution_count": null,
   "metadata": {
    "id": "Fe8I61uWqZ0b"
   },
   "outputs": [],
   "source": [
    "\"\"\"\n",
    "You already have model in your google drive.\n",
    "So go to google drive and get it.\n",
    "\"\"\""
   ]
  },
  {
   "cell_type": "code",
   "execution_count": null,
   "metadata": {
    "id": "mWOwsdgEk0Rh"
   },
   "outputs": [],
   "source": [
    "# ## Save model : .h5(Hdf5 type file)\n",
    "# save_path = \"/content/VGGnet\"\n",
    "# model.save('VGG16_Model_v1.h5', save_path, save_format=\"h5\")  "
   ]
  },
  {
   "cell_type": "code",
   "execution_count": null,
   "metadata": {
    "id": "MU31U2mOpssx"
   },
   "outputs": [],
   "source": [
    "# ## Save model : .data\n",
    "# model.save('VGG16_Model_v2.tf', save_path, save_format=\"tf\")  "
   ]
  },
  {
   "cell_type": "code",
   "execution_count": null,
   "metadata": {
    "id": "Pufewwbin8Kp"
   },
   "outputs": [],
   "source": [
    "# ## Download extracted model\n",
    "# \"\"\"If this code takes too much time, Copy model to google drive and download to local in google drive Gui envirnment.\n",
    "# In my case it takes 10-15 minutes\n",
    "# Help code is located below.\n",
    "# I recommand copy model to google drive and download in g-drive.\"\"\"\n",
    "\n",
    "# from google.colab import files\n",
    "# files.download('/content/VGGnet/VGG16_Model_v1.h5') "
   ]
  },
  {
   "cell_type": "code",
   "execution_count": null,
   "metadata": {
    "id": "yzn_MWJlorsi"
   },
   "outputs": [],
   "source": [
    "# ## Copy model colab to google drive\n",
    "# !cp '/content/VGGnet/VGG16_Model_v1.h5' /content/drive/MyDrive/VGGnet"
   ]
  }
 ],
 "metadata": {
  "accelerator": "GPU",
  "colab": {
   "authorship_tag": "ABX9TyNlC/OIKNYeRgJow8or+vXY",
   "collapsed_sections": [],
   "name": "For_Colab_Free.ipynb",
   "private_outputs": true,
   "provenance": [],
   "toc_visible": true
  },
  "kernelspec": {
   "display_name": "Python 3",
   "language": "python",
   "name": "python3"
  },
  "language_info": {
   "codemirror_mode": {
    "name": "ipython",
    "version": 3
   },
   "file_extension": ".py",
   "mimetype": "text/x-python",
   "name": "python",
   "nbconvert_exporter": "python",
   "pygments_lexer": "ipython3",
   "version": "3.7.9"
  },
  "toc": {
   "base_numbering": 1,
   "nav_menu": {},
   "number_sections": true,
   "sideBar": true,
   "skip_h1_title": false,
   "title_cell": "Table of Contents",
   "title_sidebar": "Contents",
   "toc_cell": false,
   "toc_position": {},
   "toc_section_display": true,
   "toc_window_display": false
  }
 },
 "nbformat": 4,
 "nbformat_minor": 1
}
