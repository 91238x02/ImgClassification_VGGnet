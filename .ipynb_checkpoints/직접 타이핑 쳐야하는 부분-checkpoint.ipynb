{
 "cells": [
  {
   "cell_type": "code",
   "execution_count": 1,
   "id": "a6e202d8",
   "metadata": {
    "ExecuteTime": {
     "end_time": "2021-05-09T12:01:02.713132Z",
     "start_time": "2021-05-09T12:01:02.692127Z"
    }
   },
   "outputs": [
    {
     "data": {
      "text/plain": [
       "'C:\\\\Users\\\\icecr\\\\OneDrive\\\\GitHub\\\\Repositories\\\\ImgClassification_VGGnet'"
      ]
     },
     "execution_count": 1,
     "metadata": {},
     "output_type": "execute_result"
    }
   ],
   "source": [
    "%pwd"
   ]
  },
  {
   "cell_type": "code",
   "execution_count": 2,
   "id": "8a08f5ae",
   "metadata": {
    "ExecuteTime": {
     "end_time": "2021-05-09T12:01:05.951862Z",
     "start_time": "2021-05-09T12:01:05.934859Z"
    }
   },
   "outputs": [
    {
     "name": "stdout",
     "output_type": "stream",
     "text": [
      "c:\\practice\n"
     ]
    }
   ],
   "source": [
    "%cd c:/practice"
   ]
  },
  {
   "cell_type": "code",
   "execution_count": 3,
   "id": "5e9760d2",
   "metadata": {
    "ExecuteTime": {
     "end_time": "2021-05-09T12:02:06.389411Z",
     "start_time": "2021-05-09T12:02:04.875069Z"
    }
   },
   "outputs": [
    {
     "name": "stdout",
     "output_type": "stream",
     "text": [
      "Requirement already satisfied: wget in c:\\users\\icecr\\anaconda3\\envs\\sample\\lib\\site-packages (3.2)\n"
     ]
    }
   ],
   "source": [
    "## Insatll wget package & import module\n",
    "!pip install wget\n",
    "import wget"
   ]
  },
  {
   "cell_type": "code",
   "execution_count": 5,
   "id": "12c151a5",
   "metadata": {
    "ExecuteTime": {
     "end_time": "2021-05-09T12:03:28.642839Z",
     "start_time": "2021-05-09T12:03:24.475455Z"
    }
   },
   "outputs": [
    {
     "name": "stdout",
     "output_type": "stream",
     "text": [
      "100% [........................................................................] 49871216 / 49871216"
     ]
    },
    {
     "data": {
      "text/plain": [
       "'Git-2.31.1-64-bit.exe'"
      ]
     },
     "execution_count": 5,
     "metadata": {},
     "output_type": "execute_result"
    }
   ],
   "source": [
    "wget.download(\"https://github.com/git-for-windows/git/releases/download/v2.31.1.windows.1/Git-2.31.1-64-bit.exe\")  "
   ]
  },
  {
   "cell_type": "code",
   "execution_count": 7,
   "id": "5d1ad4f8",
   "metadata": {
    "ExecuteTime": {
     "end_time": "2021-05-09T12:03:56.365611Z",
     "start_time": "2021-05-09T12:03:56.328603Z"
    }
   },
   "outputs": [
    {
     "name": "stdout",
     "output_type": "stream",
     "text": [
      " C 드라이브의 볼륨에는 이름이 없습니다.\n",
      " 볼륨 일련 번호: CA65-9E78\n",
      "\n",
      " c:\\practice 디렉터리\n",
      "\n",
      "2021-05-09  오후 09:03    <DIR>          .\n",
      "2021-05-09  오후 09:03    <DIR>          ..\n",
      "2021-05-08  오후 09:36    <DIR>          .ipynb_checkpoints\n",
      "2021-05-09  오후 09:03        49,871,216 Git-2.31.1-64-bit.exe\n",
      "2021-05-09  오전 02:25    <DIR>          ImgClassification_VGGnet\n",
      "2021-05-08  오후 09:39    <DIR>          Scrolling\n",
      "2021-05-09  오후 08:59             2,355 직접 타이핑 쳐야하는 부분.ipynb\n",
      "               2개 파일          49,873,571 바이트\n",
      "               5개 디렉터리  654,158,868,480 바이트 남음\n"
     ]
    }
   ],
   "source": [
    "%ls"
   ]
  },
  {
   "cell_type": "code",
   "execution_count": 1,
   "id": "d64242b6",
   "metadata": {
    "ExecuteTime": {
     "end_time": "2021-05-09T10:38:41.254144Z",
     "start_time": "2021-05-09T10:38:41.211132Z"
    }
   },
   "outputs": [
    {
     "name": "stderr",
     "output_type": "stream",
     "text": [
      "'git'은(는) 내부 또는 외부 명령, 실행할 수 있는 프로그램, 또는\n",
      "배치 파일이 아닙니다.\n"
     ]
    }
   ],
   "source": [
    "!git clone https://github.com/LemonChocolate/Web_Scrolling_img.git ./Scrolling"
   ]
  },
  {
   "cell_type": "code",
   "execution_count": 3,
   "id": "660a259e",
   "metadata": {
    "ExecuteTime": {
     "end_time": "2021-05-08T14:22:04.639529Z",
     "start_time": "2021-05-08T14:22:02.843593Z"
    }
   },
   "outputs": [
    {
     "name": "stderr",
     "output_type": "stream",
     "text": [
      "Cloning into './ImgClassification_VGGnet'...\n"
     ]
    }
   ],
   "source": [
    "!git clone https://github.com/LemonChocolate/ImgClassification_VGGnet.git ./ImgClassification_VGGnet"
   ]
  },
  {
   "cell_type": "code",
   "execution_count": 8,
   "id": "229da396",
   "metadata": {
    "ExecuteTime": {
     "end_time": "2021-05-09T12:04:48.155807Z",
     "start_time": "2021-05-09T12:04:48.115798Z"
    }
   },
   "outputs": [
    {
     "name": "stdout",
     "output_type": "stream",
     "text": [
      " C 드라이브의 볼륨에는 이름이 없습니다.\n",
      " 볼륨 일련 번호: CA65-9E78\n",
      "\n",
      " c:\\practice 디렉터리\n",
      "\n",
      "2021-05-09  오후 09:03    <DIR>          .\n",
      "2021-05-09  오후 09:03    <DIR>          ..\n",
      "2021-05-08  오후 09:36    <DIR>          .ipynb_checkpoints\n",
      "2021-05-09  오후 09:03        49,871,216 Git-2.31.1-64-bit.exe\n",
      "2021-05-09  오전 02:25    <DIR>          ImgClassification_VGGnet\n",
      "2021-05-08  오후 09:39    <DIR>          Scrolling\n",
      "2021-05-09  오후 08:59             2,355 직접 타이핑 쳐야하는 부분.ipynb\n",
      "               2개 파일          49,873,571 바이트\n",
      "               5개 디렉터리  654,158,143,488 바이트 남음\n"
     ]
    }
   ],
   "source": [
    "%ls"
   ]
  }
 ],
 "metadata": {
  "kernelspec": {
   "display_name": "sample",
   "language": "python",
   "name": "sample"
  },
  "language_info": {
   "codemirror_mode": {
    "name": "ipython",
    "version": 3
   },
   "file_extension": ".py",
   "mimetype": "text/x-python",
   "name": "python",
   "nbconvert_exporter": "python",
   "pygments_lexer": "ipython3",
   "version": "3.7.9"
  },
  "toc": {
   "base_numbering": 1,
   "nav_menu": {},
   "number_sections": true,
   "sideBar": true,
   "skip_h1_title": false,
   "title_cell": "Table of Contents",
   "title_sidebar": "Contents",
   "toc_cell": false,
   "toc_position": {},
   "toc_section_display": true,
   "toc_window_display": false
  }
 },
 "nbformat": 4,
 "nbformat_minor": 5
}
