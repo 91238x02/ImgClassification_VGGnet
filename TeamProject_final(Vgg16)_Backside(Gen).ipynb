{
 "cells": [
  {
   "cell_type": "markdown",
   "id": "applicable-optimum",
   "metadata": {
    "id": "applicable-optimum"
   },
   "source": [
    "# Pre_processing"
   ]
  },
  {
   "cell_type": "code",
   "execution_count": null,
   "id": "median-belarus",
   "metadata": {
    "ExecuteTime": {
     "end_time": "2021-03-27T16:33:31.799830Z",
     "start_time": "2021-03-27T16:33:31.791823Z"
    }
   },
   "outputs": [],
   "source": [
    "## Check out working directory\n",
    "%pwd"
   ]
  },
  {
   "cell_type": "code",
   "execution_count": null,
   "id": "commercial-aberdeen",
   "metadata": {
    "ExecuteTime": {
     "end_time": "2021-03-29T03:01:12.567567Z",
     "start_time": "2021-03-29T03:01:12.565567Z"
    }
   },
   "outputs": [],
   "source": [
    "## Import module \n",
    "\n",
    "import loader_shoes\n",
    "import os \n",
    "import re\n",
    "import cv2\n",
    "import csv\n",
    "import numpy as np\n",
    "import random\n",
    "import matplotlib.pyplot as plt\n",
    "import matplotlib.image as mpimg"
   ]
  },
  {
   "cell_type": "markdown",
   "id": "external-windows",
   "metadata": {
    "ExecuteTime": {
     "end_time": "2021-03-23T01:53:46.141401Z",
     "start_time": "2021-03-23T01:53:46.137399Z"
    },
    "id": "external-windows"
   },
   "source": [
    "## Resize"
   ]
  },
  {
   "cell_type": "code",
   "execution_count": null,
   "id": "heated-palestine",
   "metadata": {
    "ExecuteTime": {
     "end_time": "2021-03-28T12:25:45.469135Z",
     "start_time": "2021-03-28T12:25:33.972073Z"
    },
    "colab": {
     "base_uri": "https://localhost:8080/",
     "height": 380
    },
    "executionInfo": {
     "elapsed": 1316,
     "status": "error",
     "timestamp": 1616741771724,
     "user": {
      "displayName": "data big",
      "photoUrl": "",
      "userId": "13386613287411078605"
     },
     "user_tz": -540
    },
    "id": "heated-palestine",
    "outputId": "034ef060-f349-4e36-ebb1-35a9bc6f42e4"
   },
   "outputs": [],
   "source": [
    "## Resize & create file by order:asc\n",
    "# for modeling\n",
    "    \n",
    "path_raw = \"E:\\\\image\\\\shoes\\\\##resize_ver4\\\\d_raw\"\n",
    "path_re = \"E:\\\\image\\\\shoes\\\\##resize_ver4\\\\d_resize\"\n",
    "\n",
    "loader_shoes.resize(path_raw, path_re, height=224, width=224)  #default = 128*128"
   ]
  },
  {
   "cell_type": "markdown",
   "id": "adjacent-recording",
   "metadata": {
    "id": "adjacent-recording"
   },
   "source": [
    "## Load X : Features"
   ]
  },
  {
   "cell_type": "code",
   "execution_count": null,
   "id": "dense-participation",
   "metadata": {
    "ExecuteTime": {
     "end_time": "2021-03-29T03:01:25.847677Z",
     "start_time": "2021-03-29T03:01:23.990258Z"
    },
    "id": "dense-participation"
   },
   "outputs": [],
   "source": [
    "## Load X : Features\n",
    "\n",
    "path_re = \"E:\\\\image\\\\shoes\\\\##resize_ver4\\\\d_resize\"\n",
    "\n",
    "resize = loader_shoes.image_load(path_re)"
   ]
  },
  {
   "cell_type": "code",
   "execution_count": null,
   "id": "czech-slovakia",
   "metadata": {
    "ExecuteTime": {
     "end_time": "2021-03-29T03:01:25.980708Z",
     "start_time": "2021-03-29T03:01:25.848677Z"
    },
    "id": "czech-slovakia",
    "outputId": "1e1de8e6-a470-44c7-ec68-7416a32ab2fa",
    "scrolled": true
   },
   "outputs": [],
   "source": [
    "## Check out first img(resized)\n",
    "\n",
    "img = resize[0, : ]\n",
    "plt.figure()\n",
    "plt.imshow(img)\n",
    "print(resize.shape)  "
   ]
  },
  {
   "cell_type": "code",
   "execution_count": null,
   "id": "detailed-pledge",
   "metadata": {
    "ExecuteTime": {
     "end_time": "2021-03-29T03:01:26.313783Z",
     "start_time": "2021-03-29T03:01:25.981708Z"
    },
    "id": "detailed-pledge",
    "outputId": "95f29f45-08ec-450d-8698-125040414ce6"
   },
   "outputs": [],
   "source": [
    "## Make X (feature)\n",
    "\n",
    "X = resize\n",
    "X.shape  "
   ]
  },
  {
   "cell_type": "markdown",
   "id": "alternate-floor",
   "metadata": {
    "ExecuteTime": {
     "end_time": "2021-03-23T04:38:20.095338Z",
     "start_time": "2021-03-23T04:38:20.093338Z"
    },
    "id": "alternate-floor"
   },
   "source": [
    "## Create Label"
   ]
  },
  {
   "cell_type": "markdown",
   "id": "liable-characteristic",
   "metadata": {
    "id": "liable-characteristic"
   },
   "source": [
    "### Create Csv file"
   ]
  },
  {
   "cell_type": "code",
   "execution_count": null,
   "id": "informational-greek",
   "metadata": {
    "ExecuteTime": {
     "end_time": "2021-03-29T03:01:26.329787Z",
     "start_time": "2021-03-29T03:01:26.314783Z"
    },
    "id": "informational-greek"
   },
   "outputs": [],
   "source": [
    "## Make csv file in path_re\n",
    "\n",
    "path_re = \"E:\\\\image\\\\shoes\\\\##resize_ver4\\\\d_re.csv\"\n",
    "\n",
    "# loader_shoes.csv_maker_10(path_re, k1=498, k2=495, k3=496, k4=498, k5=500,\n",
    "#                           k6=778, k7=533, k8=636, k9=592, k10=675)\n",
    "\n",
    "\n",
    "loader_shoes.csv_maker_5(path_re, k1=500, k2=500, k3=500, k4=500, k5=500)\n"
   ]
  },
  {
   "cell_type": "markdown",
   "id": "secret-simulation",
   "metadata": {
    "ExecuteTime": {
     "end_time": "2021-03-23T04:40:02.081121Z",
     "start_time": "2021-03-23T04:40:02.077120Z"
    },
    "id": "secret-simulation"
   },
   "source": [
    "### Load y : label"
   ]
  },
  {
   "cell_type": "code",
   "execution_count": null,
   "id": "intelligent-earth",
   "metadata": {
    "ExecuteTime": {
     "end_time": "2021-03-29T03:01:26.354792Z",
     "start_time": "2021-03-29T03:01:26.330787Z"
    },
    "id": "intelligent-earth",
    "outputId": "c11ac87f-fdc1-4f91-a214-06e1c265b675"
   },
   "outputs": [],
   "source": [
    "import loader_shoes\n",
    "\n",
    "path_re = \"E:\\\\image\\\\shoes\\\\##resize_ver4\\\\d_re.csv\"\n",
    "\n",
    "#y = loader_shoes.label_load(path_re,label_cnt=10)  #label_cnt = len(신발종류)\n",
    "y = loader_shoes.label_load(path_re,label_cnt=5)  #label_cnt = len(신발종류)\n",
    "y.shape"
   ]
  },
  {
   "cell_type": "markdown",
   "id": "ruled-surfing",
   "metadata": {
    "ExecuteTime": {
     "end_time": "2021-03-25T11:37:42.629488Z",
     "start_time": "2021-03-25T11:37:42.627488Z"
    },
    "id": "ruled-surfing"
   },
   "source": [
    "## Scailing"
   ]
  },
  {
   "cell_type": "code",
   "execution_count": null,
   "id": "parental-characteristic",
   "metadata": {
    "ExecuteTime": {
     "end_time": "2021-03-29T03:01:28.549289Z",
     "start_time": "2021-03-29T03:01:26.355793Z"
    },
    "id": "parental-characteristic",
    "outputId": "081d042a-248e-4b5f-999d-678d5c9d68ed",
    "scrolled": true
   },
   "outputs": [],
   "source": [
    "X = X.astype('float')\n",
    "X = X/255\n",
    "X.shape  "
   ]
  },
  {
   "cell_type": "markdown",
   "id": "occupational-ontario",
   "metadata": {
    "ExecuteTime": {
     "end_time": "2021-03-25T11:38:18.983525Z",
     "start_time": "2021-03-25T11:38:18.980526Z"
    },
    "id": "occupational-ontario"
   },
   "source": [
    "## Check X, y"
   ]
  },
  {
   "cell_type": "code",
   "execution_count": null,
   "id": "judicial-vocabulary",
   "metadata": {
    "ExecuteTime": {
     "end_time": "2021-03-29T03:01:28.552290Z",
     "start_time": "2021-03-29T03:01:28.550289Z"
    },
    "id": "judicial-vocabulary",
    "outputId": "2750c501-0d05-49f5-cb86-f9e56f39ba97"
   },
   "outputs": [],
   "source": [
    "## Confirm X, y\n",
    "print(X.shape)  \n",
    "print(y.shape, end='\\n\\n\\n')  \n",
    "\n",
    "# print(\"#####Check out : X#####\")\n",
    "# print(X, end='\\n\\n\\n')\n",
    "# print(\"#####Check out : y#####\")\n",
    "# print(y)"
   ]
  },
  {
   "cell_type": "markdown",
   "id": "bronze-offense",
   "metadata": {
    "id": "bronze-offense"
   },
   "source": [
    "  "
   ]
  },
  {
   "cell_type": "markdown",
   "id": "cooperative-egypt",
   "metadata": {
    "id": "cooperative-egypt"
   },
   "source": [
    "   "
   ]
  },
  {
   "cell_type": "markdown",
   "id": "resistant-luxury",
   "metadata": {
    "id": "resistant-luxury"
   },
   "source": [
    "# Modeling"
   ]
  },
  {
   "cell_type": "markdown",
   "id": "technological-midwest",
   "metadata": {
    "id": "technological-midwest"
   },
   "source": [
    "## VGG16"
   ]
  },
  {
   "cell_type": "markdown",
   "id": "declared-people",
   "metadata": {
    "ExecuteTime": {
     "end_time": "2021-03-25T07:24:44.806377Z",
     "start_time": "2021-03-25T07:24:44.803376Z"
    },
    "id": "declared-people"
   },
   "source": [
    "### Import module "
   ]
  },
  {
   "cell_type": "code",
   "execution_count": null,
   "id": "sapphire-campbell",
   "metadata": {
    "ExecuteTime": {
     "end_time": "2021-03-29T03:03:03.578784Z",
     "start_time": "2021-03-29T03:03:03.575784Z"
    },
    "id": "sapphire-campbell"
   },
   "outputs": [],
   "source": [
    "## module import\n",
    "import tensorflow as tf # tensorflow 2.0\n",
    "from tensorflow.keras.models import Sequential, save_model\n",
    "from tensorflow.keras.utils import to_categorical\n",
    "from tensorflow.keras.layers import Conv2D, Flatten, MaxPooling2D, Activation\n",
    "from tensorflow.keras.layers import Dropout, BatchNormalization, Dense\n",
    "from tensorflow.keras.optimizers import Adam\n",
    "\n",
    "\n",
    "from sklearn.model_selection import train_test_split\n",
    "import matplotlib.pyplot as plt\n",
    "from PIL import Image\n",
    "import numpy as np\n",
    "\n",
    "\n",
    "## Transfer learning (전이학습)\n",
    "from tensorflow.keras.applications.vgg16 import VGG16                        \n",
    "from tensorflow.keras.applications.vgg19 import VGG19\n",
    "# from tensorflow.keras.applications.inception_v3 import InceptionV3\n",
    "# from tensorflow.keras.applications.resnet import ResNet50"
   ]
  },
  {
   "cell_type": "code",
   "execution_count": null,
   "id": "aboriginal-basic",
   "metadata": {
    "ExecuteTime": {
     "end_time": "2021-03-29T03:03:03.591788Z",
     "start_time": "2021-03-29T03:03:03.579786Z"
    },
    "id": "aboriginal-basic",
    "outputId": "16a12b5d-81e5-4ab2-ae44-2dc44d6b43bb"
   },
   "outputs": [],
   "source": [
    "## Check tensorFlow version\n",
    "\n",
    "print (tf.__version__)"
   ]
  },
  {
   "cell_type": "markdown",
   "id": "stable-surveillance",
   "metadata": {
    "ExecuteTime": {
     "end_time": "2021-03-25T07:25:09.044959Z",
     "start_time": "2021-03-25T07:25:09.042449Z"
    },
    "id": "stable-surveillance"
   },
   "source": [
    "### Validation data (Train:val=0.7:0.3)"
   ]
  },
  {
   "cell_type": "code",
   "execution_count": null,
   "id": "neural-antenna",
   "metadata": {
    "ExecuteTime": {
     "end_time": "2021-03-29T03:03:04.396978Z",
     "start_time": "2021-03-29T03:03:03.592789Z"
    },
    "id": "neural-antenna",
    "outputId": "c89d576e-fa28-41ad-c26e-6513f4fe1b52"
   },
   "outputs": [],
   "source": [
    "# 훈련/테스트 데이터를 0.7/0.3의 비율로 분리합니다.\n",
    "x_train, x_val, y_train, y_val = train_test_split(X, y, \n",
    "                                                test_size = 0.3, \n",
    "                                                random_state = 777)\n",
    "\n",
    "# Checkout\n",
    "print(x_train.shape)\n",
    "print(x_val.shape)  \n",
    "print(y_train.shape)\n",
    "print(y_val.shape)  "
   ]
  },
  {
   "cell_type": "markdown",
   "id": "junior-heaven",
   "metadata": {
    "ExecuteTime": {
     "end_time": "2021-03-25T07:25:25.761142Z",
     "start_time": "2021-03-25T07:25:25.758151Z"
    },
    "id": "junior-heaven"
   },
   "source": [
    "### Set Vgg16 options"
   ]
  },
  {
   "cell_type": "code",
   "execution_count": null,
   "id": "smart-employment",
   "metadata": {
    "ExecuteTime": {
     "end_time": "2021-03-29T03:06:13.422244Z",
     "start_time": "2021-03-29T03:06:13.180190Z"
    },
    "id": "smart-employment",
    "outputId": "bd9944ae-0031-43b8-943b-725982cf77fb",
    "scrolled": false
   },
   "outputs": [],
   "source": [
    "## VGG16 options\n",
    "\n",
    "vgg16 = VGG16(weights = 'imagenet', include_top = False, input_shape = (224, 224, 3))\n",
    "vgg16.summary()"
   ]
  },
  {
   "cell_type": "code",
   "execution_count": null,
   "id": "embedded-favor",
   "metadata": {
    "ExecuteTime": {
     "end_time": "2021-03-29T03:06:13.426245Z",
     "start_time": "2021-03-29T03:06:13.423245Z"
    },
    "id": "embedded-favor"
   },
   "outputs": [],
   "source": [
    "## 가중치 초기값 : imagenet\n",
    "# layer.trainable=True : 동결 해제 (default)\n",
    "# layer.trainable=False : 동결 (option)\n",
    "\n",
    "for layer in vgg16.layers[:15]:\n",
    "    layer.trainable = False"
   ]
  },
  {
   "cell_type": "code",
   "execution_count": null,
   "id": "opposed-magazine",
   "metadata": {
    "ExecuteTime": {
     "end_time": "2021-03-29T03:06:13.440249Z",
     "start_time": "2021-03-29T03:06:13.427245Z"
    },
    "scrolled": false
   },
   "outputs": [],
   "source": [
    "vgg16.summary()"
   ]
  },
  {
   "cell_type": "markdown",
   "id": "mineral-parallel",
   "metadata": {
    "ExecuteTime": {
     "end_time": "2021-03-25T07:29:39.243472Z",
     "start_time": "2021-03-25T07:29:39.241472Z"
    },
    "id": "mineral-parallel"
   },
   "source": [
    "### Vgg16 뒷부분 신경망 생성"
   ]
  },
  {
   "cell_type": "code",
   "execution_count": null,
   "id": "found-transportation",
   "metadata": {
    "ExecuteTime": {
     "end_time": "2021-03-29T03:06:13.619288Z",
     "start_time": "2021-03-29T03:06:13.441248Z"
    },
    "id": "found-transportation",
    "outputId": "567190fb-bda3-4882-d1b2-3e83d0bf4ec7"
   },
   "outputs": [],
   "source": [
    "# 신경망 객체 생성\n",
    "model = Sequential()\n",
    "\n",
    "# stacking vgg16\n",
    "model.add(vgg16)\n",
    "\n",
    "# Reshape : Flatten \n",
    "model.add(Flatten())\n",
    "\n",
    "# 완전연결계층1\n",
    "model.add(Dense(256, kernel_regularizer=tf.keras.regularizers.l2(1.5)))\n",
    "model.add(BatchNormalization())\n",
    "model.add(Activation('relu'))\n",
    "model.add(Dropout(0.5))\n",
    "\n",
    "# 완전연결계층2\n",
    "model.add(Dense(128, kernel_regularizer=tf.keras.regularizers.l2(1.5)))\n",
    "model.add(BatchNormalization())\n",
    "model.add(Activation('relu'))\n",
    "model.add(Dropout(0.5))\n",
    "\n",
    "# 출력층(softmax)\n",
    "#model.add(Dense(10))  # class : 10\n",
    "model.add(Dense(5))  # class : 5\n",
    "model.add(Activation('softmax'))\n",
    "\n",
    "# Check out model \n",
    "model.summary()"
   ]
  },
  {
   "cell_type": "markdown",
   "id": "drawn-plane",
   "metadata": {
    "ExecuteTime": {
     "end_time": "2021-03-25T07:29:49.674920Z",
     "start_time": "2021-03-25T07:29:49.672912Z"
    },
    "id": "drawn-plane"
   },
   "source": [
    "### Compile"
   ]
  },
  {
   "cell_type": "code",
   "execution_count": null,
   "id": "transparent-iraqi",
   "metadata": {
    "ExecuteTime": {
     "end_time": "2021-03-29T03:06:13.660298Z",
     "start_time": "2021-03-29T03:06:13.619288Z"
    },
    "id": "transparent-iraqi"
   },
   "outputs": [],
   "source": [
    "model.compile(loss='categorical_crossentropy', \n",
    "              optimizer=Adam(lr = 0.0001), \n",
    "              metrics=['accuracy'])"
   ]
  },
  {
   "cell_type": "markdown",
   "id": "monetary-favorite",
   "metadata": {
    "ExecuteTime": {
     "end_time": "2021-03-25T07:30:39.388476Z",
     "start_time": "2021-03-25T07:30:39.385476Z"
    },
    "id": "monetary-favorite"
   },
   "source": [
    "### fitting"
   ]
  },
  {
   "cell_type": "code",
   "execution_count": null,
   "id": "identified-friend",
   "metadata": {
    "ExecuteTime": {
     "end_time": "2021-03-29T03:07:03.291526Z",
     "start_time": "2021-03-29T03:06:13.661298Z"
    },
    "id": "identified-friend",
    "outputId": "4df921f8-a6d6-4911-d139-bc328b44ba2f"
   },
   "outputs": [],
   "source": [
    "## Parameters\n",
    "epochs = 6\n",
    "batch_size=100\n",
    "callback = tf.keras.callbacks.EarlyStopping(monitor='val_loss', patience=1)  #Early stopping\n",
    "#https://www.tensorflow.org/api_docs/python/tf/keras/callbacks/EarlyStopping\n",
    "    \n",
    "\n",
    "## Fitting\n",
    "hist = model.fit(x_train, y_train, \n",
    "                 validation_data=(x_val, y_val), \n",
    "                 epochs=epochs, \n",
    "                 batch_size=batch_size,\n",
    "                 callbacks = [callback])"
   ]
  },
  {
   "cell_type": "code",
   "execution_count": null,
   "id": "convertible-florida",
   "metadata": {
    "ExecuteTime": {
     "end_time": "2021-03-29T03:07:03.511576Z",
     "start_time": "2021-03-29T03:07:03.291526Z"
    }
   },
   "outputs": [],
   "source": [
    "## Check out accuracy (with independent data)\n",
    "scores3 = model.evaluate(ind_X, ind_y, verbose=0)\n",
    "\n",
    "print(\"Vgg16 ind_dataset Error : %.2f%%\" % (100-scores3[1]*100))\n",
    "print(\"Vgg16 ind_dataset Error : %.2f\" % (scores3[0]))"
   ]
  },
  {
   "cell_type": "markdown",
   "id": "pressed-pioneer",
   "metadata": {
    "ExecuteTime": {
     "end_time": "2021-03-27T22:29:49.127176Z",
     "start_time": "2021-03-27T22:29:49.125176Z"
    }
   },
   "source": [
    "### Visualization"
   ]
  },
  {
   "cell_type": "code",
   "execution_count": null,
   "id": "graphic-honduras",
   "metadata": {
    "ExecuteTime": {
     "end_time": "2021-03-29T03:07:03.514577Z",
     "start_time": "2021-03-29T03:07:03.512575Z"
    }
   },
   "outputs": [],
   "source": [
    "# list all data in history\n",
    "print(hist.history.keys())"
   ]
  },
  {
   "cell_type": "code",
   "execution_count": null,
   "id": "cooperative-cheese",
   "metadata": {
    "ExecuteTime": {
     "end_time": "2021-03-29T03:07:03.532580Z",
     "start_time": "2021-03-29T03:07:03.515577Z"
    },
    "scrolled": true
   },
   "outputs": [],
   "source": [
    "## log : Accuracy\n",
    "from pandas import DataFrame\n",
    "\n",
    "Sample = [hist.history['accuracy'],hist.history['val_accuracy']]\n",
    "df = DataFrame(Sample).transpose()\n",
    "df.columns = ['train_Acc', 'val_Acc']\n",
    "df"
   ]
  },
  {
   "cell_type": "code",
   "execution_count": null,
   "id": "cultural-nicholas",
   "metadata": {
    "ExecuteTime": {
     "end_time": "2021-03-29T03:07:03.548583Z",
     "start_time": "2021-03-29T03:07:03.532580Z"
    }
   },
   "outputs": [],
   "source": [
    "## log : Loss \n",
    "Sample2 = [hist.history['loss'],hist.history['val_loss']]\n",
    "\n",
    "df2 = DataFrame(Sample2).transpose()\n",
    "df2.columns = ['train_Loss', 'val_loss']\n",
    "df2"
   ]
  },
  {
   "cell_type": "code",
   "execution_count": null,
   "id": "enabling-bachelor",
   "metadata": {
    "ExecuteTime": {
     "end_time": "2021-03-29T03:07:03.749631Z",
     "start_time": "2021-03-29T03:07:03.550584Z"
    },
    "scrolled": false
   },
   "outputs": [],
   "source": [
    "## Visualization : Accuracy\n",
    "plt.plot(hist.history['accuracy'], color='blue')\n",
    "plt.plot(hist.history['val_accuracy'], color='red')\n",
    "plt.title('Vgg16 : Accuracy')\n",
    "plt.ylabel('accuracy')\n",
    "plt.xlabel('epochs')\n",
    "plt.legend(['train', 'val'], loc='upper left')\n",
    "plt.show()\n",
    "\n",
    "## Visualization : Loss\n",
    "plt.plot(hist.history['loss'], color='blue')\n",
    "plt.plot(hist.history['val_loss'], color='red')\n",
    "plt.title('Vgg16 : Loss')\n",
    "plt.ylabel('loss')\n",
    "plt.xlabel('epochs')\n",
    "plt.legend(['train', 'val'], loc='upper right')\n",
    "plt.show()"
   ]
  },
  {
   "cell_type": "markdown",
   "id": "worse-convertible",
   "metadata": {
    "ExecuteTime": {
     "end_time": "2021-03-25T07:40:53.475490Z",
     "start_time": "2021-03-25T07:34:48.762Z"
    },
    "id": "increased-queue"
   },
   "source": [
    "### Results"
   ]
  },
  {
   "cell_type": "code",
   "execution_count": null,
   "id": "impressed-privacy",
   "metadata": {
    "ExecuteTime": {
     "end_time": "2021-03-29T03:07:11.126298Z",
     "start_time": "2021-03-29T03:07:03.750630Z"
    },
    "id": "impressed-privacy",
    "outputId": "5e33de82-c51a-4409-c030-895ec4c4f18e",
    "scrolled": true
   },
   "outputs": [],
   "source": [
    "## Check out accuracy\n",
    "\n",
    "scores = model.evaluate(x_train, y_train, verbose=0)\n",
    "scores2 = model.evaluate(x_val, y_val, verbose=0)\n",
    "\n",
    "print(\"Vgg16 train Error : %.2f%%\" % (100-scores[1]*100))\n",
    "print(\"Vgg16 val Error : %.2f%%\" % (100-scores2[1]*100))\n",
    "print(' ')\n",
    "print(\"Vgg16 train Loss : %.2f\" % (scores[0]))\n",
    "print(\"Vgg16 val Loss : %.2f\" % (scores2[0]))"
   ]
  },
  {
   "cell_type": "markdown",
   "id": "cultural-party",
   "metadata": {
    "ExecuteTime": {
     "end_time": "2021-03-25T07:40:53.475490Z",
     "start_time": "2021-03-25T07:36:46.696Z"
    },
    "id": "cultural-party"
   },
   "source": [
    "### Save model : .h5 file"
   ]
  },
  {
   "cell_type": "code",
   "execution_count": null,
   "id": "medieval-olive",
   "metadata": {
    "ExecuteTime": {
     "end_time": "2021-03-28T17:32:23.086047Z",
     "start_time": "2021-03-28T17:32:19.394693Z"
    },
    "id": "medieval-olive"
   },
   "outputs": [],
   "source": [
    "## Save model : .h5(Hdf5 type file)\n",
    "\n",
    "save_path = \"e:\\\\shoes_vgg16_d.h5\"\n",
    "save_model(model, save_path)  "
   ]
  },
  {
   "cell_type": "markdown",
   "id": "hidden-connectivity",
   "metadata": {},
   "source": [
    " "
   ]
  },
  {
   "cell_type": "markdown",
   "id": "executed-terrain",
   "metadata": {
    "id": "removable-sample"
   },
   "source": [
    " \n",
    "    "
   ]
  },
  {
   "cell_type": "markdown",
   "id": "copyrighted-friend",
   "metadata": {},
   "source": [
    " "
   ]
  },
  {
   "cell_type": "markdown",
   "id": "utility-triangle",
   "metadata": {},
   "source": [
    " "
   ]
  },
  {
   "cell_type": "markdown",
   "id": "large-england",
   "metadata": {
    "ExecuteTime": {
     "end_time": "2021-03-26T13:41:28.206762Z",
     "start_time": "2021-03-26T13:41:28.204762Z"
    }
   },
   "source": [
    "# Testing with 'independent data'"
   ]
  },
  {
   "cell_type": "markdown",
   "id": "measured-irish",
   "metadata": {
    "ExecuteTime": {
     "end_time": "2021-03-26T13:52:51.746702Z",
     "start_time": "2021-03-26T13:52:51.744711Z"
    }
   },
   "source": [
    "## Resize"
   ]
  },
  {
   "cell_type": "code",
   "execution_count": null,
   "id": "miniature-registration",
   "metadata": {
    "ExecuteTime": {
     "end_time": "2021-03-29T01:16:58.558463Z",
     "start_time": "2021-03-29T01:16:52.288866Z"
    }
   },
   "outputs": [],
   "source": [
    "## Resize & create file by order:asc\n",
    "## for independent testing data\n",
    "\n",
    "import loader_shoes\n",
    "ind_path_raw = \"E:\\\\image\\\\shoes\\\\##resize_ver4\\\\ind_d_raw\"\n",
    "ind_path_re = \"E:\\\\image\\\\shoes\\\\##resize_ver4\\\\ind_d_resize\"\n",
    "\n",
    "loader_shoes.resize(ind_path_raw, ind_path_re, height=224, width=224)  #default = 128*128"
   ]
  },
  {
   "cell_type": "markdown",
   "id": "miniature-situation",
   "metadata": {
    "ExecuteTime": {
     "end_time": "2021-03-26T13:53:13.556397Z",
     "start_time": "2021-03-26T13:53:13.555389Z"
    }
   },
   "source": [
    "## Load ind_X"
   ]
  },
  {
   "cell_type": "code",
   "execution_count": null,
   "id": "inclusive-manual",
   "metadata": {
    "ExecuteTime": {
     "end_time": "2021-03-29T01:16:58.764509Z",
     "start_time": "2021-03-29T01:16:58.560463Z"
    }
   },
   "outputs": [],
   "source": [
    "## Load X : Features\n",
    "\n",
    "ind_path_re = \"E:\\\\image\\\\shoes\\\\##resize_ver4\\\\ind_d_resize\"\n",
    "ind_resize = loader_shoes.image_load(ind_path_re)"
   ]
  },
  {
   "cell_type": "code",
   "execution_count": null,
   "id": "charming-linux",
   "metadata": {
    "ExecuteTime": {
     "end_time": "2021-03-29T01:16:58.863532Z",
     "start_time": "2021-03-29T01:16:58.765510Z"
    }
   },
   "outputs": [],
   "source": [
    "## Check out first img(resized)\n",
    "img = ind_resize[0, : ]\n",
    "plt.figure()\n",
    "plt.imshow(img)\n",
    "print(ind_resize.shape)  "
   ]
  },
  {
   "cell_type": "code",
   "execution_count": null,
   "id": "divine-train",
   "metadata": {
    "ExecuteTime": {
     "end_time": "2021-03-29T01:16:58.867533Z",
     "start_time": "2021-03-29T01:16:58.863532Z"
    }
   },
   "outputs": [],
   "source": [
    "## Make ind_X (feature)\n",
    "ind_X = ind_resize\n",
    "ind_X.shape  "
   ]
  },
  {
   "cell_type": "markdown",
   "id": "analyzed-history",
   "metadata": {
    "ExecuteTime": {
     "end_time": "2021-03-26T13:55:17.532462Z",
     "start_time": "2021-03-26T13:55:17.530462Z"
    }
   },
   "source": [
    "## Create Label & Load ind_y"
   ]
  },
  {
   "cell_type": "code",
   "execution_count": null,
   "id": "usual-michigan",
   "metadata": {
    "ExecuteTime": {
     "end_time": "2021-03-29T01:16:58.878535Z",
     "start_time": "2021-03-29T01:16:58.868533Z"
    }
   },
   "outputs": [],
   "source": [
    "## Create Label\n",
    "\n",
    "ind_path_re = \"E:\\\\image\\\\shoes\\\\##resize_ver4\\\\ind_d_re.csv\"\n",
    "\n",
    "# loader_shoes.csv_maker_10(ind_path_re, k1=10, k2=10, k3=10, k4=10, k5=10,\n",
    "#                          k6=10, k7=10, k8=10, k9=10, k10=10)\n",
    "\n",
    "loader_shoes.csv_maker_5(ind_path_re, k1=10, k2=10, k3=10, k4=10, k5=10)\n",
    "                      "
   ]
  },
  {
   "cell_type": "code",
   "execution_count": null,
   "id": "veterinary-origin",
   "metadata": {
    "ExecuteTime": {
     "end_time": "2021-03-29T01:16:58.894538Z",
     "start_time": "2021-03-29T01:16:58.878535Z"
    }
   },
   "outputs": [],
   "source": [
    "## Load ind_y : Label\n",
    "\n",
    "ind_path_re = \"E:\\\\image\\\\shoes\\\\##resize_ver4\\\\ind_d_re.csv\"\n",
    "\n",
    "ind_y = loader_shoes.label_load(ind_path_re,label_cnt=5)  #label_cnt = len(신발종류)\n",
    "ind_y.shape"
   ]
  },
  {
   "cell_type": "markdown",
   "id": "variable-titanium",
   "metadata": {
    "ExecuteTime": {
     "end_time": "2021-03-26T14:00:23.444087Z",
     "start_time": "2021-03-26T14:00:23.442086Z"
    }
   },
   "source": [
    "## Scaling"
   ]
  },
  {
   "cell_type": "code",
   "execution_count": null,
   "id": "artificial-cabin",
   "metadata": {
    "ExecuteTime": {
     "end_time": "2021-03-29T01:16:58.944550Z",
     "start_time": "2021-03-29T01:16:58.895539Z"
    }
   },
   "outputs": [],
   "source": [
    "ind_X = ind_X.astype('float')\n",
    "ind_X = ind_X/255\n",
    "ind_X.shape  "
   ]
  },
  {
   "cell_type": "markdown",
   "id": "specialized-sending",
   "metadata": {},
   "source": [
    "## Check ind_X, ind_y"
   ]
  },
  {
   "cell_type": "code",
   "execution_count": null,
   "id": "close-conversation",
   "metadata": {
    "ExecuteTime": {
     "end_time": "2021-03-29T01:16:58.948551Z",
     "start_time": "2021-03-29T01:16:58.945550Z"
    }
   },
   "outputs": [],
   "source": [
    "## Confirm X, y\n",
    "print(ind_X.shape)\n",
    "print(ind_y.shape)  \n",
    "\n",
    "# print(\"#####Check out : X#####\")\n",
    "# print(X, end='\\n\\n\\n')\n",
    "# print(\"#####Check out : y#####\")\n",
    "# print(y)"
   ]
  },
  {
   "cell_type": "markdown",
   "id": "national-punch",
   "metadata": {
    "ExecuteTime": {
     "end_time": "2021-03-28T09:43:38.705497Z",
     "start_time": "2021-03-28T09:43:38.703504Z"
    }
   },
   "source": [
    "## Results"
   ]
  },
  {
   "cell_type": "code",
   "execution_count": null,
   "id": "accessible-relief",
   "metadata": {
    "ExecuteTime": {
     "end_time": "2021-03-29T01:24:07.435509Z",
     "start_time": "2021-03-29T01:24:07.217459Z"
    }
   },
   "outputs": [],
   "source": [
    "## Check out Error\n",
    "\n",
    "scores3 = model.evaluate(ind_X, ind_y, verbose=0)\n",
    "\n",
    "print(\"Vgg16 ind_dataset Error : %.2f%%\" % (100-scores3[1]*100))"
   ]
  }
 ],
 "metadata": {
  "accelerator": "GPU",
  "colab": {
   "name": "TeamProject001_ver2(Vgg16).ipynb",
   "provenance": []
  },
  "kernelspec": {
   "display_name": "ob_1",
   "language": "python",
   "name": "ob_1"
  },
  "language_info": {
   "codemirror_mode": {
    "name": "ipython",
    "version": 3
   },
   "file_extension": ".py",
   "mimetype": "text/x-python",
   "name": "python",
   "nbconvert_exporter": "python",
   "pygments_lexer": "ipython3",
   "version": "3.7.9"
  },
  "toc": {
   "base_numbering": 1,
   "nav_menu": {},
   "number_sections": true,
   "sideBar": true,
   "skip_h1_title": false,
   "title_cell": "Table of Contents",
   "title_sidebar": "Contents",
   "toc_cell": false,
   "toc_position": {
    "height": "calc(100% - 180px)",
    "left": "10px",
    "top": "150px",
    "width": "274.565px"
   },
   "toc_section_display": true,
   "toc_window_display": false
  }
 },
 "nbformat": 4,
 "nbformat_minor": 5
}
